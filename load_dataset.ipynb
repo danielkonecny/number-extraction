{
 "cells": [
  {
   "cell_type": "code",
   "execution_count": 4,
   "metadata": {
    "collapsed": true
   },
   "outputs": [
    {
     "ename": "TypeError",
     "evalue": "'SparseTensor' object is not iterable",
     "output_type": "error",
     "traceback": [
      "\u001B[0;31m---------------------------------------------------------------------------\u001B[0m",
      "\u001B[0;31mTypeError\u001B[0m                                 Traceback (most recent call last)",
      "Cell \u001B[0;32mIn [4], line 16\u001B[0m\n\u001B[1;32m     13\u001B[0m train_ds \u001B[38;5;241m=\u001B[39m dataset_builder(config[\u001B[38;5;124m'\u001B[39m\u001B[38;5;124mtrain_ann_paths\u001B[39m\u001B[38;5;124m'\u001B[39m], \u001B[38;5;241m16\u001B[39m, \u001B[38;5;28;01mTrue\u001B[39;00m)\n\u001B[1;32m     15\u001B[0m \u001B[38;5;28;01mfor\u001B[39;00m images, labels \u001B[38;5;129;01min\u001B[39;00m train_ds:\n\u001B[0;32m---> 16\u001B[0m     \u001B[38;5;28;01mfor\u001B[39;00m image, label \u001B[38;5;129;01min\u001B[39;00m \u001B[38;5;28mzip\u001B[39m(images, labels):\n\u001B[1;32m     17\u001B[0m         \u001B[38;5;28mprint\u001B[39m(image\u001B[38;5;241m.\u001B[39mnumpy())\n\u001B[1;32m     18\u001B[0m         \u001B[38;5;28mprint\u001B[39m(label\u001B[38;5;241m.\u001B[39mnumpy())\n",
      "\u001B[0;31mTypeError\u001B[0m: 'SparseTensor' object is not iterable"
     ]
    }
   ],
   "source": [
    "from pathlib import Path\n",
    "import yaml\n",
    "\n",
    "from crnn.dataset_factory import DatasetBuilder\n",
    "\n",
    "\n",
    "with Path(\"configs/numbers.yml\").open() as f:\n",
    "    config = yaml.load(f, Loader=yaml.Loader)['train']\n",
    "\n",
    "directory = Path(\"datasets/numbers\")\n",
    "\n",
    "dataset_builder = DatasetBuilder(**config['dataset_builder'])\n",
    "train_ds = dataset_builder(config['train_ann_paths'], 16, True)"
   ]
  },
  {
   "cell_type": "code",
   "execution_count": null,
   "outputs": [],
   "source": [],
   "metadata": {
    "collapsed": false
   }
  }
 ],
 "metadata": {
  "kernelspec": {
   "display_name": "Python 3",
   "language": "python",
   "name": "python3"
  },
  "language_info": {
   "codemirror_mode": {
    "name": "ipython",
    "version": 2
   },
   "file_extension": ".py",
   "mimetype": "text/x-python",
   "name": "python",
   "nbconvert_exporter": "python",
   "pygments_lexer": "ipython2",
   "version": "2.7.6"
  }
 },
 "nbformat": 4,
 "nbformat_minor": 0
}
